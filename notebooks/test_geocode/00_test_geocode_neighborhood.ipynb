{
 "cells": [
  {
   "cell_type": "markdown",
   "id": "e6f9f1fd",
   "metadata": {},
   "source": [
    "# Test Script: Neighborhood Geospatial Imputation\n",
    "\n",
    "**Objective:** This script validates the accuracy of the official Boston Neighborhoods shapefile used for imputing missing `neighborhood` values.\n",
    "\n",
    "**Methodology:**\n",
    "This script uses known Boston landmarks and their correct, original neighborhood names as found directly in the shapefile. It performs one key action:\n",
    "1.  Performs a **spatial join** to check if the landmark's coordinates fall within the correct neighborhood polygon.\n",
    "\n",
    "**Expected Outcome:** A successful test confirms that our shapefile is assigning the correct neighborhood to known locations, resulting in a 100% match."
   ]
  },
  {
   "cell_type": "code",
   "execution_count": 11,
   "id": "1a8b6017",
   "metadata": {},
   "outputs": [
    {
     "name": "stdout",
     "output_type": "stream",
     "text": [
      "Loading shapefile from: ../data/processed/boston_neighborhood_boundaries/Boston_Neighborhood_Boundaries.shp\n",
      "\n",
      "--- TEST REPORT --- ✅\n"
     ]
    },
    {
     "data": {
      "application/vnd.microsoft.datawrangler.viewer.v0+json": {
       "columns": [
        {
         "name": "index",
         "rawType": "int64",
         "type": "integer"
        },
        {
         "name": "Location",
         "rawType": "object",
         "type": "string"
        },
        {
         "name": "Expected Neighborhood",
         "rawType": "object",
         "type": "string"
        },
        {
         "name": "Found Neighborhood",
         "rawType": "object",
         "type": "string"
        },
        {
         "name": "Match",
         "rawType": "bool",
         "type": "boolean"
        }
       ],
       "ref": "26593894-528b-46b2-9409-685afec3ea71",
       "rows": [
        [
         "0",
         "Faneuil Hall",
         "Downtown",
         "Downtown",
         "True"
        ],
        [
         "1",
         "Paul Revere House",
         "North End",
         "North End",
         "True"
        ],
        [
         "2",
         "Bunker Hill Monument",
         "Charlestown",
         "Charlestown",
         "True"
        ],
        [
         "3",
         "Museum of Fine Arts",
         "Fenway",
         "Fenway",
         "True"
        ],
        [
         "4",
         "Arnold Arboretum",
         "Jamaica Plain",
         "Jamaica Plain",
         "True"
        ],
        [
         "5",
         "Boston Public Library",
         "Back Bay",
         "Back Bay",
         "True"
        ],
        [
         "6",
         "New England Aquarium",
         "Downtown",
         "Downtown",
         "True"
        ],
        [
         "7",
         "USS Constitution",
         "Charlestown",
         "Charlestown",
         "True"
        ],
        [
         "8",
         "South Station",
         "Downtown",
         "Downtown",
         "True"
        ],
        [
         "9",
         "Fenway Park",
         "Fenway",
         "Fenway",
         "True"
        ]
       ],
       "shape": {
        "columns": 4,
        "rows": 10
       }
      },
      "text/html": [
       "<div>\n",
       "<style scoped>\n",
       "    .dataframe tbody tr th:only-of-type {\n",
       "        vertical-align: middle;\n",
       "    }\n",
       "\n",
       "    .dataframe tbody tr th {\n",
       "        vertical-align: top;\n",
       "    }\n",
       "\n",
       "    .dataframe thead th {\n",
       "        text-align: right;\n",
       "    }\n",
       "</style>\n",
       "<table border=\"1\" class=\"dataframe\">\n",
       "  <thead>\n",
       "    <tr style=\"text-align: right;\">\n",
       "      <th></th>\n",
       "      <th>Location</th>\n",
       "      <th>Expected Neighborhood</th>\n",
       "      <th>Found Neighborhood</th>\n",
       "      <th>Match</th>\n",
       "    </tr>\n",
       "  </thead>\n",
       "  <tbody>\n",
       "    <tr>\n",
       "      <th>0</th>\n",
       "      <td>Faneuil Hall</td>\n",
       "      <td>Downtown</td>\n",
       "      <td>Downtown</td>\n",
       "      <td>True</td>\n",
       "    </tr>\n",
       "    <tr>\n",
       "      <th>1</th>\n",
       "      <td>Paul Revere House</td>\n",
       "      <td>North End</td>\n",
       "      <td>North End</td>\n",
       "      <td>True</td>\n",
       "    </tr>\n",
       "    <tr>\n",
       "      <th>2</th>\n",
       "      <td>Bunker Hill Monument</td>\n",
       "      <td>Charlestown</td>\n",
       "      <td>Charlestown</td>\n",
       "      <td>True</td>\n",
       "    </tr>\n",
       "    <tr>\n",
       "      <th>3</th>\n",
       "      <td>Museum of Fine Arts</td>\n",
       "      <td>Fenway</td>\n",
       "      <td>Fenway</td>\n",
       "      <td>True</td>\n",
       "    </tr>\n",
       "    <tr>\n",
       "      <th>4</th>\n",
       "      <td>Arnold Arboretum</td>\n",
       "      <td>Jamaica Plain</td>\n",
       "      <td>Jamaica Plain</td>\n",
       "      <td>True</td>\n",
       "    </tr>\n",
       "    <tr>\n",
       "      <th>5</th>\n",
       "      <td>Boston Public Library</td>\n",
       "      <td>Back Bay</td>\n",
       "      <td>Back Bay</td>\n",
       "      <td>True</td>\n",
       "    </tr>\n",
       "    <tr>\n",
       "      <th>6</th>\n",
       "      <td>New England Aquarium</td>\n",
       "      <td>Downtown</td>\n",
       "      <td>Downtown</td>\n",
       "      <td>True</td>\n",
       "    </tr>\n",
       "    <tr>\n",
       "      <th>7</th>\n",
       "      <td>USS Constitution</td>\n",
       "      <td>Charlestown</td>\n",
       "      <td>Charlestown</td>\n",
       "      <td>True</td>\n",
       "    </tr>\n",
       "    <tr>\n",
       "      <th>8</th>\n",
       "      <td>South Station</td>\n",
       "      <td>Downtown</td>\n",
       "      <td>Downtown</td>\n",
       "      <td>True</td>\n",
       "    </tr>\n",
       "    <tr>\n",
       "      <th>9</th>\n",
       "      <td>Fenway Park</td>\n",
       "      <td>Fenway</td>\n",
       "      <td>Fenway</td>\n",
       "      <td>True</td>\n",
       "    </tr>\n",
       "  </tbody>\n",
       "</table>\n",
       "</div>"
      ],
      "text/plain": [
       "                Location Expected Neighborhood Found Neighborhood  Match\n",
       "0           Faneuil Hall              Downtown           Downtown   True\n",
       "1      Paul Revere House             North End          North End   True\n",
       "2   Bunker Hill Monument           Charlestown        Charlestown   True\n",
       "3    Museum of Fine Arts                Fenway             Fenway   True\n",
       "4       Arnold Arboretum         Jamaica Plain      Jamaica Plain   True\n",
       "5  Boston Public Library              Back Bay           Back Bay   True\n",
       "6   New England Aquarium              Downtown           Downtown   True\n",
       "7       USS Constitution           Charlestown        Charlestown   True\n",
       "8          South Station              Downtown           Downtown   True\n",
       "9            Fenway Park                Fenway             Fenway   True"
      ]
     },
     "execution_count": 11,
     "metadata": {},
     "output_type": "execute_result"
    }
   ],
   "source": [
    "import pandas as pd\n",
    "import geopandas as gpd\n",
    "from shapely.geometry import Point\n",
    "from pathlib import Path\n",
    "\n",
    "# --- 1. Load the local Boston Neighborhoods shapefile ---\n",
    "shapefile_path = Path(\"../data/processed/boston_neighborhood_boundaries/Boston_Neighborhood_Boundaries.shp\")\n",
    "neighborhoods_gdf = gpd.read_file(shapefile_path)\n",
    "print(f\"Loading shapefile from: {shapefile_path}\")\n",
    "\n",
    "# --- 2. Define 10 test points with their raw neighborhood names ---\n",
    "test_points = {\n",
    "    'Location': [\n",
    "        'Faneuil Hall', 'Paul Revere House', 'Bunker Hill Monument', 'Museum of Fine Arts',\n",
    "        'Arnold Arboretum', 'Boston Public Library', 'New England Aquarium',\n",
    "        'USS Constitution', 'South Station', 'Fenway Park'\n",
    "    ],\n",
    "    'Latitude': [\n",
    "        42.3601, 42.3639, 42.3763, 42.3394, 42.3010, 42.3496, 42.3592,\n",
    "        42.3727, 42.3521, 42.3467\n",
    "    ],\n",
    "    'Longitude': [\n",
    "        -71.0545, -71.0537, -71.0608, -71.0940, -71.1250, -71.0777, -71.0505,\n",
    "        -71.0560, -71.0552, -71.0972\n",
    "    ],\n",
    "    'Expected Neighborhood': [\n",
    "        'Downtown', 'North End', 'Charlestown', 'Fenway', 'Jamaica Plain',\n",
    "        'Back Bay', 'Downtown', 'Charlestown', 'Downtown', 'Fenway'\n",
    "    ]\n",
    "}\n",
    "test_df = pd.DataFrame(test_points)\n",
    "\n",
    "# --- 3. Convert the test data into a GeoDataFrame ---\n",
    "geometry = [Point(xy) for xy in zip(test_df['Longitude'], test_df['Latitude'])]\n",
    "test_gdf = gpd.GeoDataFrame(test_df, geometry=geometry, crs=\"EPSG:4326\")\n",
    "test_gdf = test_gdf.to_crs(neighborhoods_gdf.crs)\n",
    "\n",
    "# --- 4. Perform the spatial join using the original 'name' column ---\n",
    "results_gdf = gpd.sjoin(test_gdf, neighborhoods_gdf[['name', 'geometry']], how=\"left\", predicate=\"within\")\n",
    "\n",
    "# --- 5. Compare the results and print the report ---\n",
    "results_gdf.rename(columns={'name': 'Found Neighborhood'}, inplace=True)\n",
    "results_gdf['Match'] = results_gdf['Expected Neighborhood'] == results_gdf['Found Neighborhood']\n",
    "\n",
    "print(\"\\n--- TEST REPORT --- ✅\")\n",
    "results_gdf[['Location', 'Expected Neighborhood', 'Found Neighborhood', 'Match']]"
   ]
  }
 ],
 "metadata": {
  "kernelspec": {
   "display_name": "Python (boston311)",
   "language": "python",
   "name": "boston311"
  },
  "language_info": {
   "codemirror_mode": {
    "name": "ipython",
    "version": 3
   },
   "file_extension": ".py",
   "mimetype": "text/x-python",
   "name": "python",
   "nbconvert_exporter": "python",
   "pygments_lexer": "ipython3",
   "version": "3.11.13"
  }
 },
 "nbformat": 4,
 "nbformat_minor": 5
}
