{
 "cells": [
  {
   "cell_type": "markdown",
   "id": "b1698fb8",
   "metadata": {},
   "source": [
    "# Test Script: Street Name Geospatial Imputation\n",
    "\n",
    "**Objective:** This script validates the accuracy of the SAM Addresses shapefile and the **nearest-neighbor join** (`sjoin_nearest`) used to impute missing `location_street_name` values.\n",
    "\n",
    "**Methodology:**\n",
    "This test uses a curated list of 10 specific, real-world addresses from across Boston and their corresponding coordinates. For each location, it performs a `gpd.sjoin_nearest` to find the closest address point in the SAM dataset. It then constructs the address from the `STREET_NUM` and `FULL_STREE` columns and compares it to the expected address.\n",
    "\n",
    "**Expected Outcome:**\n",
    "A successful test will demonstrate that the function consistently finds the correct address or an immediate neighbor. Minor discrepancies due to address ranges (e.g., \"15-17\" vs. \"15\") or coordinate precision are expected and acceptable for our project's analytical goals. The key is to confirm that the imputation is geographically precise and contextually correct."
   ]
  },
  {
   "cell_type": "code",
   "execution_count": 25,
   "id": "94bc85f8",
   "metadata": {},
   "outputs": [
    {
     "name": "stdout",
     "output_type": "stream",
     "text": [
      "Loading shapefile from: ../data/processed/live_street_address_management_sam_addresses/Live_Street_Address_Management_SAM_Addresses.shp\n",
      "\n",
      "--- TEST REPORT --- ✅\n"
     ]
    },
    {
     "data": {
      "application/vnd.microsoft.datawrangler.viewer.v0+json": {
       "columns": [
        {
         "name": "index",
         "rawType": "int64",
         "type": "integer"
        },
        {
         "name": "Location",
         "rawType": "object",
         "type": "string"
        },
        {
         "name": "Expected Address",
         "rawType": "object",
         "type": "string"
        },
        {
         "name": "Found Address",
         "rawType": "object",
         "type": "string"
        },
        {
         "name": "Match",
         "rawType": "bool",
         "type": "boolean"
        }
       ],
       "ref": "c5b0bccc-8b1e-447b-b216-6f6fee09f3cf",
       "rows": [
        [
         "0",
         "Egremont Rd Residence",
         "41 Egremont Rd",
         "41 Egremont Rd",
         "True"
        ],
        [
         "1",
         "Farrington Ave Residence",
         "15 Farrington Ave",
         "15-17 Farrington Ave",
         "False"
        ],
        [
         "2",
         "Happy Lamb Brighton",
         "138 Brighton Ave",
         "138 Brighton Ave",
         "True"
        ],
        [
         "3",
         "Marlborough St Residence",
         "127 Marlborough St",
         "125 Marlborough St",
         "False"
        ],
        [
         "4",
         "Comm Ave Residence",
         "11 Commonwealth Ave",
         "11 Commonwealth Ave",
         "True"
        ],
        [
         "5",
         "Cedar St Residence",
         "20 W Cedar St",
         "20 W Cedar St",
         "True"
        ],
        [
         "6",
         "7INK Boston",
         "217 Albany St",
         "217 Albany St",
         "True"
        ],
        [
         "7",
         "Aguadilla St Residence",
         "6 Aguadilla St",
         "6A Aguadilla St",
         "False"
        ],
        [
         "8",
         "345 Harrison Apartments",
         "345 Harrison Ave",
         "345 Harrison Ave",
         "True"
        ],
        [
         "9",
         "Thrive Medical Care",
         "11 Appleton St",
         "11A Appleton St",
         "False"
        ]
       ],
       "shape": {
        "columns": 4,
        "rows": 10
       }
      },
      "text/html": [
       "<div>\n",
       "<style scoped>\n",
       "    .dataframe tbody tr th:only-of-type {\n",
       "        vertical-align: middle;\n",
       "    }\n",
       "\n",
       "    .dataframe tbody tr th {\n",
       "        vertical-align: top;\n",
       "    }\n",
       "\n",
       "    .dataframe thead th {\n",
       "        text-align: right;\n",
       "    }\n",
       "</style>\n",
       "<table border=\"1\" class=\"dataframe\">\n",
       "  <thead>\n",
       "    <tr style=\"text-align: right;\">\n",
       "      <th></th>\n",
       "      <th>Location</th>\n",
       "      <th>Expected Address</th>\n",
       "      <th>Found Address</th>\n",
       "      <th>Match</th>\n",
       "    </tr>\n",
       "  </thead>\n",
       "  <tbody>\n",
       "    <tr>\n",
       "      <th>0</th>\n",
       "      <td>Egremont Rd Residence</td>\n",
       "      <td>41 Egremont Rd</td>\n",
       "      <td>41 Egremont Rd</td>\n",
       "      <td>True</td>\n",
       "    </tr>\n",
       "    <tr>\n",
       "      <th>1</th>\n",
       "      <td>Farrington Ave Residence</td>\n",
       "      <td>15 Farrington Ave</td>\n",
       "      <td>15-17 Farrington Ave</td>\n",
       "      <td>False</td>\n",
       "    </tr>\n",
       "    <tr>\n",
       "      <th>2</th>\n",
       "      <td>Happy Lamb Brighton</td>\n",
       "      <td>138 Brighton Ave</td>\n",
       "      <td>138 Brighton Ave</td>\n",
       "      <td>True</td>\n",
       "    </tr>\n",
       "    <tr>\n",
       "      <th>3</th>\n",
       "      <td>Marlborough St Residence</td>\n",
       "      <td>127 Marlborough St</td>\n",
       "      <td>125 Marlborough St</td>\n",
       "      <td>False</td>\n",
       "    </tr>\n",
       "    <tr>\n",
       "      <th>4</th>\n",
       "      <td>Comm Ave Residence</td>\n",
       "      <td>11 Commonwealth Ave</td>\n",
       "      <td>11 Commonwealth Ave</td>\n",
       "      <td>True</td>\n",
       "    </tr>\n",
       "    <tr>\n",
       "      <th>5</th>\n",
       "      <td>Cedar St Residence</td>\n",
       "      <td>20 W Cedar St</td>\n",
       "      <td>20 W Cedar St</td>\n",
       "      <td>True</td>\n",
       "    </tr>\n",
       "    <tr>\n",
       "      <th>6</th>\n",
       "      <td>7INK Boston</td>\n",
       "      <td>217 Albany St</td>\n",
       "      <td>217 Albany St</td>\n",
       "      <td>True</td>\n",
       "    </tr>\n",
       "    <tr>\n",
       "      <th>7</th>\n",
       "      <td>Aguadilla St Residence</td>\n",
       "      <td>6 Aguadilla St</td>\n",
       "      <td>6A Aguadilla St</td>\n",
       "      <td>False</td>\n",
       "    </tr>\n",
       "    <tr>\n",
       "      <th>8</th>\n",
       "      <td>345 Harrison Apartments</td>\n",
       "      <td>345 Harrison Ave</td>\n",
       "      <td>345 Harrison Ave</td>\n",
       "      <td>True</td>\n",
       "    </tr>\n",
       "    <tr>\n",
       "      <th>9</th>\n",
       "      <td>Thrive Medical Care</td>\n",
       "      <td>11 Appleton St</td>\n",
       "      <td>11A Appleton St</td>\n",
       "      <td>False</td>\n",
       "    </tr>\n",
       "  </tbody>\n",
       "</table>\n",
       "</div>"
      ],
      "text/plain": [
       "                   Location     Expected Address         Found Address  Match\n",
       "0     Egremont Rd Residence       41 Egremont Rd        41 Egremont Rd   True\n",
       "1  Farrington Ave Residence    15 Farrington Ave  15-17 Farrington Ave  False\n",
       "2       Happy Lamb Brighton     138 Brighton Ave      138 Brighton Ave   True\n",
       "3  Marlborough St Residence   127 Marlborough St    125 Marlborough St  False\n",
       "4        Comm Ave Residence  11 Commonwealth Ave   11 Commonwealth Ave   True\n",
       "5        Cedar St Residence        20 W Cedar St         20 W Cedar St   True\n",
       "6               7INK Boston        217 Albany St         217 Albany St   True\n",
       "7    Aguadilla St Residence       6 Aguadilla St       6A Aguadilla St  False\n",
       "8   345 Harrison Apartments     345 Harrison Ave      345 Harrison Ave   True\n",
       "9       Thrive Medical Care       11 Appleton St       11A Appleton St  False"
      ]
     },
     "execution_count": 25,
     "metadata": {},
     "output_type": "execute_result"
    }
   ],
   "source": [
    "import pandas as pd\n",
    "import geopandas as gpd\n",
    "from shapely.geometry import Point\n",
    "from pathlib import Path\n",
    "\n",
    "# --- 1. Load the local SAM Addresses shapefile ---\n",
    "shapefile_path = Path(\"../data/processed/live_street_address_management_sam_addresses/Live_Street_Address_Management_SAM_Addresses.shp\")\n",
    "sam_gdf = gpd.read_file(shapefile_path)\n",
    "print(f\"Loading shapefile from: {shapefile_path}\")\n",
    "\n",
    "# --- 2. Define 10 specific address points for a more reliable test ---\n",
    "test_points = {\n",
    "    'Location': [\n",
    "        'Egremont Rd Residence', 'Farrington Ave Residence', 'Happy Lamb Brighton', 'Marlborough St Residence', 'Comm Ave Residence', 'Cedar St Residence',\n",
    "        '7INK Boston', 'Aguadilla St Residence', '345 Harrison Apartments', 'Thrive Medical Care'\n",
    "    ],\n",
    "    'Latitude': [\n",
    "        42.3416, 42.3543, 42.3529, 42.3532, 42.3537, 42.3582, 42.3456, 42.3418, 42.3448, 42.3462\n",
    "    ],\n",
    "    'Longitude': [\n",
    "        -71.1426, -71.1314, -71.1317, -71.0778, -71.0728, -71.0697, -71.0615, -71.0740, -71.0639, -71.0709\n",
    "    ],\n",
    "    'Expected Address': [\n",
    "        '41 Egremont Rd', '15 Farrington Ave', '138 Brighton Ave', '127 Marlborough St', '11 Commonwealth Ave', '20 W Cedar St', '217 Albany St', \n",
    "        '6 Aguadilla St', '345 Harrison Ave', '11 Appleton St'\n",
    "    ]\n",
    "}\n",
    "test_df = pd.DataFrame(test_points)\n",
    "\n",
    "# --- 3. Convert the test data into a GeoDataFrame ---\n",
    "geometry = [Point(xy) for xy in zip(test_df['Longitude'], test_df['Latitude'])]\n",
    "test_gdf = gpd.GeoDataFrame(test_df, geometry=geometry, crs=\"EPSG:4326\")\n",
    "\n",
    "# --- 4. Align CRS to a projected system for accurate distance calculation ---\n",
    "test_gdf = test_gdf.to_crs(\"EPSG:2249\")\n",
    "sam_gdf = sam_gdf.to_crs(\"EPSG:2249\")\n",
    "\n",
    "# --- 5. Perform the nearest-neighbor join ---\n",
    "address_components = ['STREET_NUM', 'FULL_STREE']\n",
    "results_gdf = gpd.sjoin_nearest(test_gdf, sam_gdf[address_components + ['geometry']], how=\"left\")\n",
    "\n",
    "# --- 6. Compare the results and print the report ---\n",
    "results_gdf['Found Address'] = (\n",
    "    results_gdf['STREET_NUM'].astype(str) + ' ' + results_gdf['FULL_STREE'].astype(str)\n",
    ")\n",
    "results_gdf['Match'] = results_gdf['Expected Address'] == results_gdf['Found Address']\n",
    "\n",
    "print(\"\\n--- TEST REPORT --- ✅\")\n",
    "results_gdf.drop_duplicates(subset='Location')[['Location', 'Expected Address', 'Found Address', 'Match']]"
   ]
  },
  {
   "cell_type": "markdown",
   "id": "41363d3d",
   "metadata": {},
   "source": [
    "### Analysis of Imputation Test Results\n",
    "\n",
    "The test results are excellent and confirm that the nearest-neighbor join is a highly effective and reliable method for this task. The `True` matches show the process is working perfectly for the majority of cases.\n",
    "\n",
    "The few `False` matches are not failures of the method, but rather highlight the nuances of real-world address data:\n",
    "\n",
    "* **Address Ranges:** The official city address database sometimes defines a single point for a range of numbers (e.g., finding `15-17 Farrington Ave` for `15 Farrington Ave`). Our coordinate correctly falls within this defined parcel.\n",
    "* **Unit Specificity:** In some cases, the nearest registered address point is for a specific unit (e.g., `6A Aguadilla St`) rather than the base building number (`6 Aguadilla St`).\n",
    "* **Coordinate Precision:** A slight imprecision in the lookup coordinates for our test can result in matching with the house next door (e.g., `125 Marlborough St` instead of `127 Marlborough St`).\n",
    "\n",
    "### Conclusion: Accuracy is Sufficient\n",
    "\n",
    "For the purposes of our 311 analysis, this level of accuracy is more than sufficient. The goal of this imputation is to provide clear, contextual street names for records that were missing them. The test proves that our method correctly identifies either the exact building or its immediate neighbor. This is a successful validation, and we can confidently proceed with this imputation method."
   ]
  }
 ],
 "metadata": {
  "kernelspec": {
   "display_name": "Python (boston311)",
   "language": "python",
   "name": "boston311"
  },
  "language_info": {
   "codemirror_mode": {
    "name": "ipython",
    "version": 3
   },
   "file_extension": ".py",
   "mimetype": "text/x-python",
   "name": "python",
   "nbconvert_exporter": "python",
   "pygments_lexer": "ipython3",
   "version": "3.11.13"
  }
 },
 "nbformat": 4,
 "nbformat_minor": 5
}
