{
 "cells": [
  {
   "cell_type": "markdown",
   "id": "d19940b0",
   "metadata": {},
   "source": [
    "# Test Script: ZIP Code Geospatial Imputation\n",
    "\n",
    "**Objective:** This script validates the accuracy of our custom-built Massachusetts ZIP code shapefile (`massachusetts_zips.shp`) used for imputing missing zip codes.\n",
    "\n",
    "**Methodology:**\n",
    "* **Shapefile Creation:** The `massachusetts_zips.shp` was created by the `scripts/02_filter_shapefile.py` script. This script takes the national ZCTA (ZIP Code Tabulation Area) shapefile from the US Census Bureau (`tl_2024_us_zcta520`) and filters it to include only the ZIP codes that intersect with the Massachusetts state boundary (`tl_2024_us_state`), creating a much smaller and more efficient file for our analysis.\n",
    "* **Validation Process:** The script defines several well-known Boston landmarks with their correct ZIP codes. It then performs a **spatial join** (a point-in-polygon operation) to see if the coordinates of these landmarks fall within the correct ZIP code polygon in our shapefile.\n",
    "\n",
    "**Expected Outcome:** A successful test will show a 100% match between the \"Expected ZIP\" and the \"Found ZIP,\" confirming our geospatial data is reliable."
   ]
  },
  {
   "cell_type": "code",
   "execution_count": 6,
   "id": "aab66887",
   "metadata": {},
   "outputs": [
    {
     "name": "stdout",
     "output_type": "stream",
     "text": [
      "Loading shapefile from: ../data/processed/mass_shapefile/massachusetts_zips.shp\n",
      "\n",
      "--- TEST REPORT --- ✅\n"
     ]
    },
    {
     "data": {
      "application/vnd.microsoft.datawrangler.viewer.v0+json": {
       "columns": [
        {
         "name": "index",
         "rawType": "int64",
         "type": "integer"
        },
        {
         "name": "Location",
         "rawType": "object",
         "type": "string"
        },
        {
         "name": "Expected ZIP",
         "rawType": "object",
         "type": "string"
        },
        {
         "name": "Found ZIP",
         "rawType": "object",
         "type": "string"
        },
        {
         "name": "Match",
         "rawType": "bool",
         "type": "boolean"
        }
       ],
       "ref": "8c811dc1-eb03-452c-98cf-d4d631200547",
       "rows": [
        [
         "0",
         "Fenway Park",
         "02215",
         "02215",
         "True"
        ],
        [
         "1",
         "Faneuil Hall",
         "02109",
         "02109",
         "True"
        ],
        [
         "2",
         "Logan Airport (Terminal E)",
         "02128",
         "02128",
         "True"
        ],
        [
         "3",
         "Franklin Park Zoo",
         "02121",
         "02121",
         "True"
        ],
        [
         "4",
         "341 Harrison Ave",
         "02118",
         "02118",
         "True"
        ],
        [
         "5",
         "Museum of Science",
         "02114",
         "02114",
         "True"
        ],
        [
         "6",
         "Isabella Stewart Gardner Museum",
         "02115",
         "02115",
         "True"
        ],
        [
         "7",
         "Boston Public Library",
         "02116",
         "02116",
         "True"
        ],
        [
         "8",
         "New England Aquarium",
         "02110",
         "02110",
         "True"
        ],
        [
         "9",
         "USS Constitution",
         "02129",
         "02129",
         "True"
        ]
       ],
       "shape": {
        "columns": 4,
        "rows": 10
       }
      },
      "text/html": [
       "<div>\n",
       "<style scoped>\n",
       "    .dataframe tbody tr th:only-of-type {\n",
       "        vertical-align: middle;\n",
       "    }\n",
       "\n",
       "    .dataframe tbody tr th {\n",
       "        vertical-align: top;\n",
       "    }\n",
       "\n",
       "    .dataframe thead th {\n",
       "        text-align: right;\n",
       "    }\n",
       "</style>\n",
       "<table border=\"1\" class=\"dataframe\">\n",
       "  <thead>\n",
       "    <tr style=\"text-align: right;\">\n",
       "      <th></th>\n",
       "      <th>Location</th>\n",
       "      <th>Expected ZIP</th>\n",
       "      <th>Found ZIP</th>\n",
       "      <th>Match</th>\n",
       "    </tr>\n",
       "  </thead>\n",
       "  <tbody>\n",
       "    <tr>\n",
       "      <th>0</th>\n",
       "      <td>Fenway Park</td>\n",
       "      <td>02215</td>\n",
       "      <td>02215</td>\n",
       "      <td>True</td>\n",
       "    </tr>\n",
       "    <tr>\n",
       "      <th>1</th>\n",
       "      <td>Faneuil Hall</td>\n",
       "      <td>02109</td>\n",
       "      <td>02109</td>\n",
       "      <td>True</td>\n",
       "    </tr>\n",
       "    <tr>\n",
       "      <th>2</th>\n",
       "      <td>Logan Airport (Terminal E)</td>\n",
       "      <td>02128</td>\n",
       "      <td>02128</td>\n",
       "      <td>True</td>\n",
       "    </tr>\n",
       "    <tr>\n",
       "      <th>3</th>\n",
       "      <td>Franklin Park Zoo</td>\n",
       "      <td>02121</td>\n",
       "      <td>02121</td>\n",
       "      <td>True</td>\n",
       "    </tr>\n",
       "    <tr>\n",
       "      <th>4</th>\n",
       "      <td>341 Harrison Ave</td>\n",
       "      <td>02118</td>\n",
       "      <td>02118</td>\n",
       "      <td>True</td>\n",
       "    </tr>\n",
       "    <tr>\n",
       "      <th>5</th>\n",
       "      <td>Museum of Science</td>\n",
       "      <td>02114</td>\n",
       "      <td>02114</td>\n",
       "      <td>True</td>\n",
       "    </tr>\n",
       "    <tr>\n",
       "      <th>6</th>\n",
       "      <td>Isabella Stewart Gardner Museum</td>\n",
       "      <td>02115</td>\n",
       "      <td>02115</td>\n",
       "      <td>True</td>\n",
       "    </tr>\n",
       "    <tr>\n",
       "      <th>7</th>\n",
       "      <td>Boston Public Library</td>\n",
       "      <td>02116</td>\n",
       "      <td>02116</td>\n",
       "      <td>True</td>\n",
       "    </tr>\n",
       "    <tr>\n",
       "      <th>8</th>\n",
       "      <td>New England Aquarium</td>\n",
       "      <td>02110</td>\n",
       "      <td>02110</td>\n",
       "      <td>True</td>\n",
       "    </tr>\n",
       "    <tr>\n",
       "      <th>9</th>\n",
       "      <td>USS Constitution</td>\n",
       "      <td>02129</td>\n",
       "      <td>02129</td>\n",
       "      <td>True</td>\n",
       "    </tr>\n",
       "  </tbody>\n",
       "</table>\n",
       "</div>"
      ],
      "text/plain": [
       "                          Location Expected ZIP Found ZIP  Match\n",
       "0                      Fenway Park        02215     02215   True\n",
       "1                     Faneuil Hall        02109     02109   True\n",
       "2       Logan Airport (Terminal E)        02128     02128   True\n",
       "3                Franklin Park Zoo        02121     02121   True\n",
       "4                 341 Harrison Ave        02118     02118   True\n",
       "5                Museum of Science        02114     02114   True\n",
       "6  Isabella Stewart Gardner Museum        02115     02115   True\n",
       "7            Boston Public Library        02116     02116   True\n",
       "8             New England Aquarium        02110     02110   True\n",
       "9                 USS Constitution        02129     02129   True"
      ]
     },
     "execution_count": 6,
     "metadata": {},
     "output_type": "execute_result"
    }
   ],
   "source": [
    "import pandas as pd\n",
    "import geopandas as gpd\n",
    "from shapely.geometry import Point\n",
    "\n",
    "# --- 1. Load the processed Massachusetts shapefile ---\n",
    "shapefile_path = '../data/processed/mass_shapefile/massachusetts_zips.shp'\n",
    "print(f\"Loading shapefile from: {shapefile_path}\")\n",
    "ma_zips_gdf = gpd.read_file(shapefile_path)\n",
    "\n",
    "# --- 2. Define 10 test points with their known correct ZIP codes ---\n",
    "test_points = {\n",
    "    'Location': [\n",
    "        'Fenway Park', 'Faneuil Hall', 'Logan Airport (Terminal E)', 'Franklin Park Zoo',\n",
    "        '341 Harrison Ave', 'Museum of Science', 'Isabella Stewart Gardner Museum',\n",
    "        'Boston Public Library', 'New England Aquarium', 'USS Constitution'\n",
    "    ],\n",
    "    'Latitude': [\n",
    "        42.3467, 42.3601, 42.3649, 42.3026, 42.3452, 42.3673, 42.3382,\n",
    "        42.3496, 42.3592, 42.3727\n",
    "    ],\n",
    "    'Longitude': [\n",
    "        -71.0972, -71.0545, -71.0221, -71.0890, -71.0638, -71.0711, -71.0991,\n",
    "        -71.0777, -71.0505, -71.0560\n",
    "    ],\n",
    "    'Expected ZIP': [\n",
    "        '02215', '02109', '02128', '02121', '02118', '02114', '02115',\n",
    "        '02116', '02110', '02129'\n",
    "    ]\n",
    "}\n",
    "test_df = pd.DataFrame(test_points)\n",
    "\n",
    "# --- 3. Convert the test data into a GeoDataFrame ---\n",
    "geometry = [Point(xy) for xy in zip(test_df['Longitude'], test_df['Latitude'])]\n",
    "test_gdf = gpd.GeoDataFrame(test_df, geometry=geometry, crs=\"EPSG:4326\")\n",
    "test_gdf = test_gdf.to_crs(ma_zips_gdf.crs)\n",
    "\n",
    "# --- 5. Perform the spatial join ---\n",
    "results_gdf = gpd.sjoin(test_gdf, ma_zips_gdf[['ZCTA5CE20', 'geometry']], how=\"left\", predicate=\"within\")\n",
    "\n",
    "# --- 6. Compare the results and print the report ---\n",
    "results_gdf.rename(columns={'ZCTA5CE20': 'Found ZIP'}, inplace=True)\n",
    "results_gdf['Match'] = results_gdf['Expected ZIP'] == results_gdf['Found ZIP']\n",
    "\n",
    "print(\"\\n--- TEST REPORT --- ✅\")\n",
    "results_gdf[['Location', 'Expected ZIP', 'Found ZIP', 'Match']]"
   ]
  }
 ],
 "metadata": {
  "kernelspec": {
   "display_name": "Python (boston311)",
   "language": "python",
   "name": "boston311"
  },
  "language_info": {
   "codemirror_mode": {
    "name": "ipython",
    "version": 3
   },
   "file_extension": ".py",
   "mimetype": "text/x-python",
   "name": "python",
   "nbconvert_exporter": "python",
   "pygments_lexer": "ipython3",
   "version": "3.11.13"
  }
 },
 "nbformat": 4,
 "nbformat_minor": 5
}
